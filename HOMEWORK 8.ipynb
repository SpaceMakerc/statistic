{
 "cells": [
  {
   "cell_type": "code",
   "execution_count": 1,
   "id": "a0fe3804",
   "metadata": {},
   "outputs": [],
   "source": [
    "import scipy.stats as stats\n",
    "import numpy as np\n",
    "import matplotlib.pyplot as plt\n",
    "from sklearn.linear_model import LinearRegression\n",
    "import matplotlib.pyplot as plt\n",
    "model = LinearRegression()"
   ]
  },
  {
   "cell_type": "markdown",
   "id": "549096a7",
   "metadata": {},
   "source": [
    "#### Провести дисперсионный анализ для определения того, есть ли различия среднего роста среди взрослых футболистов, хоккеистов и штангистов. Даны значения роста в трех группах случайно выбранных спортсменов: Футболисты: 173, 175, 180, 178, 177, 185, 183, 182. Хоккеисты: 177, 179, 180, 188, 177, 172, 171, 184, 180. Штангисты: 172, 173, 169, 177, 166, 180, 178, 177, 172, 166, 170. alpha = 0.05"
   ]
  },
  {
   "cell_type": "code",
   "execution_count": 2,
   "id": "df11721e",
   "metadata": {},
   "outputs": [
    {
     "name": "stdout",
     "output_type": "stream",
     "text": [
      "28\n"
     ]
    }
   ],
   "source": [
    "n1 = 8\n",
    "n2 = 9\n",
    "n3 = 11\n",
    "n = n1 + n2 + n3\n",
    "print(n)"
   ]
  },
  {
   "cell_type": "markdown",
   "id": "22a924ea",
   "metadata": {},
   "source": [
    "#### Всего три группы"
   ]
  },
  {
   "cell_type": "code",
   "execution_count": 3,
   "id": "886beb12",
   "metadata": {},
   "outputs": [],
   "source": [
    "k = 3"
   ]
  },
  {
   "cell_type": "markdown",
   "id": "e117a221",
   "metadata": {},
   "source": [
    "#### Рост футболистов"
   ]
  },
  {
   "cell_type": "code",
   "execution_count": 10,
   "id": "875b39e5",
   "metadata": {},
   "outputs": [],
   "source": [
    "y1 = np.array([173, 175, 180, 178, 177, 185, 183, 182], dtype=np.float64)"
   ]
  },
  {
   "cell_type": "markdown",
   "id": "bed60f3c",
   "metadata": {},
   "source": [
    "#### Рост хоккеистов"
   ]
  },
  {
   "cell_type": "code",
   "execution_count": 11,
   "id": "33b9b423",
   "metadata": {},
   "outputs": [],
   "source": [
    "y2 = np.array([177, 179, 180, 188, 177, 172, 171, 184, 180], dtype=np.float64)"
   ]
  },
  {
   "cell_type": "markdown",
   "id": "27c66f34",
   "metadata": {},
   "source": [
    "#### Рост штангистов"
   ]
  },
  {
   "cell_type": "code",
   "execution_count": 12,
   "id": "3913a66b",
   "metadata": {},
   "outputs": [],
   "source": [
    "y3 = np.array([172, 173, 169, 177, 166, 180, 178, 177, 172, 166, 170], dtype=np.float64)"
   ]
  },
  {
   "cell_type": "markdown",
   "id": "c9b8a3a8",
   "metadata": {},
   "source": [
    "#### Проведем однофакторный дисперсионный анализ. Сначала найдем средние по росту в каждой выборке"
   ]
  },
  {
   "cell_type": "code",
   "execution_count": 13,
   "id": "6a9afcf8",
   "metadata": {},
   "outputs": [
    {
     "name": "stdout",
     "output_type": "stream",
     "text": [
      "179.125\n"
     ]
    }
   ],
   "source": [
    "y1_mean = np.mean(y1)\n",
    "print(y1_mean)"
   ]
  },
  {
   "cell_type": "code",
   "execution_count": 14,
   "id": "b909055f",
   "metadata": {},
   "outputs": [
    {
     "name": "stdout",
     "output_type": "stream",
     "text": [
      "178.66666666666666\n"
     ]
    }
   ],
   "source": [
    "y2_mean = np.mean(y2)\n",
    "print(y2_mean)"
   ]
  },
  {
   "cell_type": "code",
   "execution_count": 15,
   "id": "f8f8ec17",
   "metadata": {},
   "outputs": [
    {
     "name": "stdout",
     "output_type": "stream",
     "text": [
      "172.72727272727272\n"
     ]
    }
   ],
   "source": [
    "y3_mean = np.mean(y3)\n",
    "print(y3_mean)"
   ]
  },
  {
   "cell_type": "markdown",
   "id": "f70a7df2",
   "metadata": {},
   "source": [
    "#### Видно, что средние зарплаты разнятся. Установим, что это отличие статистически значимо. Для этого сначала соберем \n",
    "\n",
    "#### все значения роста в один массив:"
   ]
  },
  {
   "cell_type": "code",
   "execution_count": 16,
   "id": "50b14ef4",
   "metadata": {},
   "outputs": [
    {
     "data": {
      "text/plain": [
       "array([173., 175., 180., 178., 177., 185., 183., 182., 177., 179., 180.,\n",
       "       188., 177., 172., 171., 184., 180., 172., 173., 169., 177., 166.,\n",
       "       180., 178., 177., 172., 166., 170.])"
      ]
     },
     "execution_count": 16,
     "metadata": {},
     "output_type": "execute_result"
    }
   ],
   "source": [
    "y_all = np.concatenate([y1, y2, y3])\n",
    "y_all"
   ]
  },
  {
   "cell_type": "markdown",
   "id": "f649b925",
   "metadata": {},
   "source": [
    "#### Найдем среднее значение заработной платы по всем значениям"
   ]
  },
  {
   "cell_type": "code",
   "execution_count": 17,
   "id": "35c8d841",
   "metadata": {},
   "outputs": [
    {
     "name": "stdout",
     "output_type": "stream",
     "text": [
      "176.46428571428572\n"
     ]
    }
   ],
   "source": [
    "y_mean = np.mean(y_all)\n",
    "print(y_mean)"
   ]
  },
  {
   "cell_type": "markdown",
   "id": "97aeb35c",
   "metadata": {},
   "source": [
    "#### Найдем $S^2$ — сумму квадратов отклонений наблюдений от общего среднего:"
   ]
  },
  {
   "cell_type": "code",
   "execution_count": 18,
   "id": "616b8a10",
   "metadata": {},
   "outputs": [
    {
     "data": {
      "text/plain": [
       "830.9642857142854"
      ]
     },
     "execution_count": 18,
     "metadata": {},
     "output_type": "execute_result"
    }
   ],
   "source": [
    "s2 = np.sum((y_all - y_mean)**2)\n",
    "s2"
   ]
  },
  {
   "cell_type": "markdown",
   "id": "daac20ac",
   "metadata": {},
   "source": [
    "#### Найдем $S^2_F$ - сумму квадратов отклонений средних групповых значений от общего среднего:"
   ]
  },
  {
   "cell_type": "code",
   "execution_count": 21,
   "id": "030cb09f",
   "metadata": {},
   "outputs": [
    {
     "data": {
      "text/plain": [
       "487.65463306534525"
      ]
     },
     "execution_count": 21,
     "metadata": {},
     "output_type": "execute_result"
    }
   ],
   "source": [
    "s2_f = ((y1_mean - y_mean)**2) *n + ((y2_mean - y_mean)**2) * n + ((y3_mean - y_mean)**2) * n3\n",
    "s2_f"
   ]
  },
  {
   "cell_type": "markdown",
   "id": "4ab25894",
   "metadata": {},
   "source": [
    "#### Найдем $S^2_{ост}$ — остаточную сумму квадратов отклонений:"
   ]
  },
  {
   "cell_type": "code",
   "execution_count": 22,
   "id": "45978ff4",
   "metadata": {},
   "outputs": [
    {
     "data": {
      "text/plain": [
       "343.3096526489402"
      ]
     },
     "execution_count": 22,
     "metadata": {},
     "output_type": "execute_result"
    }
   ],
   "source": [
    "s2_oct = s2 - s2_f\n",
    "s2_oct"
   ]
  },
  {
   "cell_type": "markdown",
   "id": "ec86780f",
   "metadata": {},
   "source": [
    "#### Найдем общую дисперсию:"
   ]
  },
  {
   "cell_type": "code",
   "execution_count": 23,
   "id": "66da9a8e",
   "metadata": {},
   "outputs": [
    {
     "data": {
      "text/plain": [
       "30.776455026455015"
      ]
     },
     "execution_count": 23,
     "metadata": {},
     "output_type": "execute_result"
    }
   ],
   "source": [
    "sigma2_general = s2 / (n - 1)\n",
    "sigma2_general"
   ]
  },
  {
   "cell_type": "markdown",
   "id": "b35537d6",
   "metadata": {},
   "source": [
    "#### Найдем факторную дисперсию:"
   ]
  },
  {
   "cell_type": "code",
   "execution_count": 24,
   "id": "e15ca3a5",
   "metadata": {},
   "outputs": [
    {
     "data": {
      "text/plain": [
       "243.82731653267263"
      ]
     },
     "execution_count": 24,
     "metadata": {},
     "output_type": "execute_result"
    }
   ],
   "source": [
    "sigma2_f = s2_f / (k - 1)\n",
    "sigma2_f"
   ]
  },
  {
   "cell_type": "markdown",
   "id": "12bb6c95",
   "metadata": {},
   "source": [
    "#### Найдем остаточную дисперсию:"
   ]
  },
  {
   "cell_type": "code",
   "execution_count": 25,
   "id": "669b5123",
   "metadata": {},
   "outputs": [
    {
     "data": {
      "text/plain": [
       "13.732386105957607"
      ]
     },
     "execution_count": 25,
     "metadata": {},
     "output_type": "execute_result"
    }
   ],
   "source": [
    "sigma2_oct = s2_oct / (n - k)\n",
    "sigma2_oct"
   ]
  },
  {
   "cell_type": "markdown",
   "id": "37ecad6d",
   "metadata": {},
   "source": [
    "#### Вычислим $F_H$:"
   ]
  },
  {
   "cell_type": "code",
   "execution_count": 26,
   "id": "ce7821da",
   "metadata": {},
   "outputs": [
    {
     "data": {
      "text/plain": [
       "17.75564090984097"
      ]
     },
     "execution_count": 26,
     "metadata": {},
     "output_type": "execute_result"
    }
   ],
   "source": [
    "F_h = sigma2_f / sigma2_oct\n",
    "F_h"
   ]
  },
  {
   "cell_type": "markdown",
   "id": "8f43cc8b",
   "metadata": {},
   "source": [
    "#### Найдем значение $F_{крит}$ в таблице критических точек распределения Фишера-Снедекора для заданного уровня значимости $\\alpha = 0.05$ и двух степеней свободы: \n",
    "\n",
    "#### $df_{межд} = k - 1 = 3 - 1 = 2$ и $df_{внутр} = n - k = 28 - 3 = 25$."
   ]
  },
  {
   "cell_type": "markdown",
   "id": "abfb1963",
   "metadata": {},
   "source": [
    "#### Для данных значений $F_{крит} = 3.40$. Так как $F_H > F_{крит}$, различие средних зарплат в трех группах статистически значимо."
   ]
  },
  {
   "cell_type": "markdown",
   "id": "9c3b10a7",
   "metadata": {},
   "source": [
    "#### Также вычислим эмпирическое корреляционное отношение $\\eta^2$:"
   ]
  },
  {
   "cell_type": "code",
   "execution_count": 27,
   "id": "0c6ed246",
   "metadata": {},
   "outputs": [
    {
     "data": {
      "text/plain": [
       "0.586853901484062"
      ]
     },
     "execution_count": 27,
     "metadata": {},
     "output_type": "execute_result"
    }
   ],
   "source": [
    "eta2 = s2_f / s2\n",
    "eta2"
   ]
  },
  {
   "cell_type": "markdown",
   "id": "9de9e78b",
   "metadata": {},
   "source": [
    "#### Значение $\\eta^2$ близко к 1 — значит,  различие средних зарплат в трех группах является статистически значимым."
   ]
  }
 ],
 "metadata": {
  "kernelspec": {
   "display_name": "Python 3 (ipykernel)",
   "language": "python",
   "name": "python3"
  },
  "language_info": {
   "codemirror_mode": {
    "name": "ipython",
    "version": 3
   },
   "file_extension": ".py",
   "mimetype": "text/x-python",
   "name": "python",
   "nbconvert_exporter": "python",
   "pygments_lexer": "ipython3",
   "version": "3.9.7"
  }
 },
 "nbformat": 4,
 "nbformat_minor": 5
}
